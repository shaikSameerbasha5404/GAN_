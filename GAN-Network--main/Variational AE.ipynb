{
 "cells": [
  {
   "cell_type": "markdown",
   "metadata": {},
   "source": [
    "## Variational Auto Encoder Using MNIST"
   ]
  },
  {
   "cell_type": "code",
   "execution_count": 1,
   "metadata": {},
   "outputs": [],
   "source": [
    "import os\n",
    "import torch\n",
    "import torch.nn as nn\n",
    "import torch.nn.functional as F\n",
    "import torchvision\n",
    "from torchvision import transforms\n",
    "from torchvision.utils import save_image"
   ]
  },
  {
   "cell_type": "code",
   "execution_count": 6,
   "metadata": {},
   "outputs": [
    {
     "name": "stderr",
     "output_type": "stream",
     "text": [
      "100%|███████████████████████████████████████| 9.91M/9.91M [00:52<00:00, 190kB/s]\n",
      "100%|███████████████████████████████████████| 28.9k/28.9k [00:00<00:00, 128kB/s]\n",
      "100%|███████████████████████████████████████| 1.65M/1.65M [00:05<00:00, 300kB/s]\n",
      "100%|███████████████████████████████████████| 4.54k/4.54k [00:00<00:00, 679kB/s]\n"
     ]
    }
   ],
   "source": [
    "# Define hyperparameters\n",
    "image_size = 784\n",
    "hidden_dim = 400\n",
    "latent_dim = 20\n",
    "batch_size = 128\n",
    "epochs = 10\n",
    "\n",
    "device = torch.device(\"cuda\" if torch.cuda.is_available() else \"cpu\")\n",
    "\n",
    "# MNIST dataset\n",
    "train_dataset = torchvision.datasets.MNIST(root='./data',\n",
    "                                           train=True,\n",
    "                                           transform=transforms.ToTensor(),\n",
    "                                           download=True)\n",
    "\n",
    "train_loader = torch.utils.data.DataLoader(dataset=train_dataset,\n",
    "                                           batch_size=batch_size, \n",
    "                                           shuffle=True)\n",
    "\n",
    "test_dataset = torchvision.datasets.MNIST(root='./data',\n",
    "                                          train=False,\n",
    "                                          transform=transforms.ToTensor())\n",
    "\n",
    "test_loader = torch.utils.data.DataLoader(dataset=test_dataset,\n",
    "                                          batch_size=batch_size, \n",
    "                                          shuffle=True)\n",
    "\n",
    "# Create directory to save the reconstructed and sampled images (if directory not present)\n",
    "sample_dir = 'results'\n",
    "if not os.path.exists(sample_dir):\n",
    "    os.makedirs(sample_dir)"
   ]
  },
  {
   "cell_type": "markdown",
   "metadata": {},
   "source": [
    "![vae](https://user-images.githubusercontent.com/30661597/78418103-a2047200-766b-11ea-8205-c7e5712715f4.png)"
   ]
  },
  {
   "cell_type": "code",
   "execution_count": 3,
   "metadata": {},
   "outputs": [],
   "source": [
    "# VAE model\n",
    "class VAE(nn.Module):\n",
    "    def __init__(self):\n",
    "        super(VAE, self).__init__()\n",
    "        \n",
    "        self.fc1 = nn.Linear(image_size, hidden_dim)\n",
    "        self.fc2_mean = nn.Linear(hidden_dim, latent_dim)\n",
    "        self.fc2_logvar = nn.Linear(hidden_dim, latent_dim)\n",
    "        self.fc3 = nn.Linear(latent_dim, hidden_dim)\n",
    "        self.fc4 = nn.Linear(hidden_dim, image_size)\n",
    "        \n",
    "    def encode(self, x):\n",
    "        h = F.relu(self.fc1(x))\n",
    "        mu = self.fc2_mean(h)\n",
    "        log_var = self.fc2_logvar(h)\n",
    "        return mu, log_var\n",
    "    \n",
    "    def reparameterize(self, mu, logvar):\n",
    "        std = torch.exp(logvar/2)\n",
    "        eps = torch.randn_like(std)\n",
    "        return mu + eps * std\n",
    "    \n",
    "    def decode(self, z):\n",
    "        h = F.relu(self.fc3(z))\n",
    "        out = torch.sigmoid(self.fc4(h))\n",
    "        return out\n",
    "    \n",
    "    def forward(self, x):\n",
    "        # x: (batch_size, 1, 28,28) --> (batch_size, 784)\n",
    "        mu, logvar = self.encode(x.view(-1, image_size))\n",
    "        z = self.reparameterize(mu, logvar)\n",
    "        reconstructed = self.decode(z)\n",
    "        return reconstructed, mu, logvar\n",
    "\n",
    "# Define model and optimizer\n",
    "model = VAE().to(device)\n",
    "optimizer = torch.optim.Adam(model.parameters(), lr=1e-3)"
   ]
  },
  {
   "cell_type": "markdown",
   "metadata": {},
   "source": [
    "$Loss = -E[\\log P(X | z)]+D_{K L}[N(\\mu(X), \\Sigma(X)) \\| N(0,1)]$"
   ]
  },
  {
   "cell_type": "markdown",
   "metadata": {},
   "source": [
    "#### $D_{K L}[N(\\mu(X), \\Sigma(X)) \\| N(0,1)]=\\frac{1}{2} \\sum_{k}\\left(\\exp (\\Sigma(X))+\\mu^{2}(X)-1-\\Sigma(X)\\right)$"
   ]
  },
  {
   "cell_type": "code",
   "execution_count": 4,
   "metadata": {},
   "outputs": [],
   "source": [
    "# Define Loss\n",
    "def loss_function(reconstructed_image, original_image, mu, logvar):\n",
    "    bce = F.binary_cross_entropy(reconstructed_image, original_image.view(-1, 784), reduction = 'sum')\n",
    "    # kld = torch.sum(0.5 * torch.sum(logvar.exp() + mu.pow(2) - 1 - logvar, 1))\n",
    "    kld = 0.5 * torch.sum(logvar.exp() + mu.pow(2) - 1 - logvar)\n",
    "    return bce + kld\n",
    "    \n",
    "\n",
    "# Train function\n",
    "def train(epoch):\n",
    "    model.train()\n",
    "    train_loss = 0\n",
    "    for i, (images, _) in enumerate(train_loader):\n",
    "        images = images.to(device)\n",
    "        reconstructed, mu, logvar = model(images)\n",
    "        loss = loss_function(reconstructed, images, mu, logvar)\n",
    "        optimizer.zero_grad()\n",
    "        loss.backward()\n",
    "        train_loss += loss.item()\n",
    "        optimizer.step()\n",
    "        \n",
    "        if i % 100 == 0:\n",
    "            print(\"Train Epoch {} [Batch {}/{}]\\tLoss: {:.3f}\".format(epoch, i, len(train_loader), loss.item()/len(images)))\n",
    "            \n",
    "    print('=====> Epoch {}, Average Loss: {:.3f}'.format(epoch, train_loss/len(train_loader.dataset)))\n",
    "\n",
    "\n",
    "# Test function\n",
    "def test(epoch):\n",
    "    model.eval()\n",
    "    test_loss = 0\n",
    "    with torch.no_grad():\n",
    "        for batch_idx, (images, _) in enumerate(test_loader):\n",
    "            images = images.to(device)\n",
    "            reconstructed, mu, logvar = model(images)\n",
    "            test_loss += loss_function(reconstructed, images, mu, logvar).item()\n",
    "            if batch_idx == 0:\n",
    "                comparison = torch.cat([images[:5], reconstructed.view(batch_size, 1, 28, 28)[:5]])\n",
    "                save_image(comparison.cpu(), 'results/reconstruction_' + str(epoch) + '.png', nrow = 5)\n",
    "\n",
    "    print('=====> Average Test Loss: {:.3f}'.format(test_loss/len(test_loader.dataset)))"
   ]
  },
  {
   "cell_type": "code",
   "execution_count": 5,
   "metadata": {},
   "outputs": [
    {
     "name": "stdout",
     "output_type": "stream",
     "text": [
      "Train Epoch 1 [Batch 0/469]\tLoss: 545.807\n",
      "Train Epoch 1 [Batch 100/469]\tLoss: 180.879\n",
      "Train Epoch 1 [Batch 200/469]\tLoss: 145.500\n",
      "Train Epoch 1 [Batch 300/469]\tLoss: 138.981\n",
      "Train Epoch 1 [Batch 400/469]\tLoss: 135.188\n",
      "=====> Epoch 1, Average Loss: 164.282\n",
      "=====> Average Test Loss: 128.486\n",
      "Train Epoch 2 [Batch 0/469]\tLoss: 126.226\n",
      "Train Epoch 2 [Batch 100/469]\tLoss: 124.189\n",
      "Train Epoch 2 [Batch 200/469]\tLoss: 120.041\n",
      "Train Epoch 2 [Batch 300/469]\tLoss: 121.694\n",
      "Train Epoch 2 [Batch 400/469]\tLoss: 114.025\n",
      "=====> Epoch 2, Average Loss: 121.828\n",
      "=====> Average Test Loss: 116.030\n",
      "Train Epoch 3 [Batch 0/469]\tLoss: 118.919\n",
      "Train Epoch 3 [Batch 100/469]\tLoss: 113.019\n",
      "Train Epoch 3 [Batch 200/469]\tLoss: 116.406\n",
      "Train Epoch 3 [Batch 300/469]\tLoss: 113.414\n",
      "Train Epoch 3 [Batch 400/469]\tLoss: 113.695\n",
      "=====> Epoch 3, Average Loss: 114.790\n",
      "=====> Average Test Loss: 112.005\n",
      "Train Epoch 4 [Batch 0/469]\tLoss: 111.644\n",
      "Train Epoch 4 [Batch 100/469]\tLoss: 117.048\n",
      "Train Epoch 4 [Batch 200/469]\tLoss: 115.435\n",
      "Train Epoch 4 [Batch 300/469]\tLoss: 112.034\n",
      "Train Epoch 4 [Batch 400/469]\tLoss: 105.274\n",
      "=====> Epoch 4, Average Loss: 111.741\n",
      "=====> Average Test Loss: 109.906\n",
      "Train Epoch 5 [Batch 0/469]\tLoss: 108.482\n",
      "Train Epoch 5 [Batch 100/469]\tLoss: 109.784\n",
      "Train Epoch 5 [Batch 200/469]\tLoss: 109.046\n",
      "Train Epoch 5 [Batch 300/469]\tLoss: 111.791\n",
      "Train Epoch 5 [Batch 400/469]\tLoss: 108.788\n",
      "=====> Epoch 5, Average Loss: 109.914\n",
      "=====> Average Test Loss: 108.367\n",
      "Train Epoch 6 [Batch 0/469]\tLoss: 108.744\n",
      "Train Epoch 6 [Batch 100/469]\tLoss: 110.990\n",
      "Train Epoch 6 [Batch 200/469]\tLoss: 106.181\n",
      "Train Epoch 6 [Batch 300/469]\tLoss: 107.107\n",
      "Train Epoch 6 [Batch 400/469]\tLoss: 104.714\n",
      "=====> Epoch 6, Average Loss: 108.730\n",
      "=====> Average Test Loss: 107.361\n",
      "Train Epoch 7 [Batch 0/469]\tLoss: 104.224\n",
      "Train Epoch 7 [Batch 100/469]\tLoss: 109.783\n",
      "Train Epoch 7 [Batch 200/469]\tLoss: 104.148\n",
      "Train Epoch 7 [Batch 300/469]\tLoss: 106.456\n",
      "Train Epoch 7 [Batch 400/469]\tLoss: 108.820\n",
      "=====> Epoch 7, Average Loss: 107.905\n",
      "=====> Average Test Loss: 107.048\n",
      "Train Epoch 8 [Batch 0/469]\tLoss: 108.942\n",
      "Train Epoch 8 [Batch 100/469]\tLoss: 110.178\n",
      "Train Epoch 8 [Batch 200/469]\tLoss: 110.440\n",
      "Train Epoch 8 [Batch 300/469]\tLoss: 102.695\n",
      "Train Epoch 8 [Batch 400/469]\tLoss: 103.309\n",
      "=====> Epoch 8, Average Loss: 107.240\n",
      "=====> Average Test Loss: 106.467\n",
      "Train Epoch 9 [Batch 0/469]\tLoss: 109.822\n",
      "Train Epoch 9 [Batch 100/469]\tLoss: 107.123\n",
      "Train Epoch 9 [Batch 200/469]\tLoss: 104.975\n",
      "Train Epoch 9 [Batch 300/469]\tLoss: 106.296\n",
      "Train Epoch 9 [Batch 400/469]\tLoss: 107.922\n",
      "=====> Epoch 9, Average Loss: 106.679\n",
      "=====> Average Test Loss: 106.074\n",
      "Train Epoch 10 [Batch 0/469]\tLoss: 104.310\n",
      "Train Epoch 10 [Batch 100/469]\tLoss: 107.911\n",
      "Train Epoch 10 [Batch 200/469]\tLoss: 103.370\n",
      "Train Epoch 10 [Batch 300/469]\tLoss: 107.443\n",
      "Train Epoch 10 [Batch 400/469]\tLoss: 105.733\n",
      "=====> Epoch 10, Average Loss: 106.309\n",
      "=====> Average Test Loss: 105.556\n"
     ]
    }
   ],
   "source": [
    "# Main function\n",
    "for epoch in range(1, epochs + 1):\n",
    "    train(epoch)\n",
    "    test(epoch)\n",
    "    with torch.no_grad():\n",
    "        # Get rid of the encoder and sample z from the gaussian ditribution and feed it to the decoder to generate samples\n",
    "        sample = torch.randn(64,20).to(device)\n",
    "        generated = model.decode(sample).cpu()\n",
    "        save_image(generated.view(64,1,28,28), 'results/sample_' + str(epoch) + '.png')"
   ]
  },
  {
   "cell_type": "code",
   "execution_count": null,
   "metadata": {},
   "outputs": [],
   "source": []
  }
 ],
 "metadata": {
  "kernelspec": {
   "display_name": "Python 3 (ipykernel)",
   "language": "python",
   "name": "python3"
  },
  "language_info": {
   "codemirror_mode": {
    "name": "ipython",
    "version": 3
   },
   "file_extension": ".py",
   "mimetype": "text/x-python",
   "name": "python",
   "nbconvert_exporter": "python",
   "pygments_lexer": "ipython3",
   "version": "3.12.2"
  }
 },
 "nbformat": 4,
 "nbformat_minor": 4
}
